{
  "nbformat": 4,
  "nbformat_minor": 0,
  "metadata": {
    "colab": {
      "provenance": [],
      "authorship_tag": "ABX9TyNUdA2IroNKQrpnav+XzKSk",
      "include_colab_link": true
    },
    "kernelspec": {
      "name": "python3",
      "display_name": "Python 3"
    },
    "language_info": {
      "name": "python"
    }
  },
  "cells": [
    {
      "cell_type": "markdown",
      "metadata": {
        "id": "view-in-github",
        "colab_type": "text"
      },
      "source": [
        "<a href=\"https://colab.research.google.com/github/jerryA107082054/A107082054-02/blob/main/Default_Cubes_Destroyer.ipynb\" target=\"_parent\"><img src=\"https://colab.research.google.com/assets/colab-badge.svg\" alt=\"Open In Colab\"/></a>"
      ]
    },
    {
      "cell_type": "code",
      "execution_count": null,
      "metadata": {
        "id": "yn0yO5EttV6D"
      },
      "outputs": [],
      "source": [
        "import bpy\n",
        "import os\n",
        "import tempfile\n",
        "\n",
        "bl_info = {\n",
        "    \"name\": \"Default Cubes Destroyer - by HuyKhoi2407\",\n",
        "    \"blender\": (3, 60, 0),\n",
        "    \"category\": \"Object\",\n",
        "}\n",
        "\n",
        "def is_primitive_cube(obj):\n",
        "    if obj.type != 'MESH':\n",
        "        return False\n",
        "    verts = len(obj.data.vertices)\n",
        "    edges = len(obj.data.edges)\n",
        "    faces = len(obj.data.polygons)\n",
        "    return verts == 8 and edges == 12 and faces == 6\n",
        "\n",
        "class OBJECT_OT_find_kill_default_cubes(bpy.types.Operator):\n",
        "    \"\"\"Find and Kill Default Cubes, then save a clean Start Up file\"\"\"\n",
        "    bl_idname = \"object.find_kill_default_cubes\"\n",
        "    bl_label = \"Find & Kill all Cubes\"\n",
        "    bl_options = {'REGISTER', 'UNDO'}\n",
        "\n",
        "    def execute(self, context):\n",
        "\n",
        "        bpy.ops.wm.save_homefile()\n",
        "\n",
        "        bpy.ops.object.select_all(action='SELECT')\n",
        "        bpy.ops.object.delete()\n",
        "        bpy.ops.wm.save_homefile()\n",
        "\n",
        "        bpy.ops.ed.undo()\n",
        "\n",
        "        removed = 0\n",
        "        for obj in list(bpy.context.scene.objects):\n",
        "            if is_primitive_cube(obj):\n",
        "                bpy.data.objects.remove(obj, do_unlink=True)\n",
        "                removed += 1\n",
        "\n",
        "\n",
        "        self.report({'INFO'}, f\"Removed {removed} default cube(s) and saved clean Start Up file\")\n",
        "        return {'FINISHED'}\n",
        "\n",
        "class VIEW3D_PT_default_cube_destroyer(bpy.types.Panel):\n",
        "    \"\"\"Panel for Finding and Killing Default Cubes\"\"\"\n",
        "    bl_label = \"Default Cube Destroyer - by HuyKhoi2407\"\n",
        "    bl_idname = \"VIEW3D_PT_default_cube_destroyer\"\n",
        "    bl_space_type = 'VIEW_3D'\n",
        "    bl_region_type = 'UI'\n",
        "    bl_category = 'Tool'\n",
        "\n",
        "    def draw(self, context):\n",
        "        layout = self.layout\n",
        "        layout.operator(\"object.find_kill_default_cubes\")\n",
        "        row = self.layout.row()\n",
        "        row.label(text=\"If you love this addons, please visit my channel:\")\n",
        "        row = self.layout.row()\n",
        "        op = row.operator('wm.url_open', text='Visit My Channel', icon_value=0, emboss=True, depress=False)\n",
        "        op.url = 'https://www.youtube.com/@tranquanghuykhoi2407'\n",
        "\n",
        "\n",
        "def register():\n",
        "    bpy.utils.register_class(OBJECT_OT_find_kill_default_cubes)\n",
        "    bpy.utils.register_class(VIEW3D_PT_default_cube_destroyer)\n",
        "\n",
        "def unregister():\n",
        "    bpy.utils.unregister_class(OBJECT_OT_find_kill_default_cubes)\n",
        "    bpy.utils.unregister_class(VIEW3D_PT_default_cube_destroyer)\n",
        "\n",
        "if __name__ == \"__main__\":\n",
        "    register()"
      ]
    }
  ]
}